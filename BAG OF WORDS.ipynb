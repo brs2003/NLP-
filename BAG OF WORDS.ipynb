{
 "cells": [
  {
   "cell_type": "code",
   "execution_count": 1,
   "id": "228aff73",
   "metadata": {},
   "outputs": [],
   "source": [
    "import nltk\n",
    "from nltk.tokenize import word_tokenize\n",
    "doc =[]"
   ]
  },
  {
   "cell_type": "code",
   "execution_count": 23,
   "id": "abf795dd",
   "metadata": {},
   "outputs": [
    {
     "name": "stdout",
     "output_type": "stream",
     "text": [
      "ENTER THE NUMBER OF DOCUMENTS TO IMPLEMENT BAG OF WORDS ENCODING:- 4\n",
      "ENTER THE 1st DOCUMENT:-dog bites man\n",
      "ENTER THE 2st DOCUMENT:-man bites dog\n",
      "ENTER THE 3st DOCUMENT:-dog eats meat\n",
      "ENTER THE 4st DOCUMENT:-man eats food\n"
     ]
    }
   ],
   "source": [
    "n = int(input(\"ENTER THE NUMBER OF DOCUMENTS TO IMPLEMENT BAG OF WORDS ENCODING:- \"))\n",
    "for i in range(n):\n",
    "    d = input(\"ENTER THE \" +str(i+1)+\"st DOCUMENT:-\")\n",
    "    doc.append(d)"
   ]
  },
  {
   "cell_type": "code",
   "execution_count": 24,
   "id": "211a63c9",
   "metadata": {},
   "outputs": [
    {
     "name": "stdout",
     "output_type": "stream",
     "text": [
      "['dog bites man', 'man bites dog', 'dog eats meat', 'man eats food']\n"
     ]
    }
   ],
   "source": [
    "print(doc)"
   ]
  },
  {
   "cell_type": "code",
   "execution_count": 25,
   "id": "19f95d4a",
   "metadata": {},
   "outputs": [],
   "source": [
    "text = \" \"\n",
    "for i in doc:\n",
    "    text = text+\" \"+i.lower()"
   ]
  },
  {
   "cell_type": "code",
   "execution_count": 26,
   "id": "96141d86",
   "metadata": {},
   "outputs": [
    {
     "name": "stdout",
     "output_type": "stream",
     "text": [
      "  dog bites man man bites dog dog eats meat man eats food\n"
     ]
    }
   ],
   "source": [
    "print(text)"
   ]
  },
  {
   "cell_type": "code",
   "execution_count": 27,
   "id": "6576d810",
   "metadata": {},
   "outputs": [
    {
     "name": "stdout",
     "output_type": "stream",
     "text": [
      "{'man', 'dog', 'bites', 'eats', 'meat', 'food'}\n"
     ]
    }
   ],
   "source": [
    "tok = set(word_tokenize(text))\n",
    "print(tok)"
   ]
  },
  {
   "cell_type": "code",
   "execution_count": 28,
   "id": "644fa978",
   "metadata": {},
   "outputs": [
    {
     "name": "stdout",
     "output_type": "stream",
     "text": [
      "{'man': 1, 'dog': 2, 'bites': 3, 'eats': 4, 'meat': 5, 'food': 6}\n"
     ]
    }
   ],
   "source": [
    "t = dict()\n",
    "for i,w in enumerate(tok):\n",
    "    t[w] = i+1\n",
    "print(t)    "
   ]
  },
  {
   "cell_type": "code",
   "execution_count": 32,
   "id": "cf2d51e3",
   "metadata": {},
   "outputs": [
    {
     "name": "stdout",
     "output_type": "stream",
     "text": [
      "TEXT BEFORE ENCODING IS:  dog bites man\n",
      "TEXT AFTER ENCODING IS:  [1, 1, 1, 0, 0, 0]\n",
      "TEXT BEFORE ENCODING IS:  man bites dog\n",
      "TEXT AFTER ENCODING IS:  [1, 1, 1, 0, 0, 0]\n",
      "TEXT BEFORE ENCODING IS:  dog eats meat\n",
      "TEXT AFTER ENCODING IS:  [0, 1, 0, 1, 1, 0]\n",
      "TEXT BEFORE ENCODING IS:  man eats food\n",
      "TEXT AFTER ENCODING IS:  [1, 0, 0, 1, 0, 1]\n"
     ]
    }
   ],
   "source": [
    "for text in doc:\n",
    "    vector = [0 for i in range(len(tok))]\n",
    "    for word in text.split():\n",
    "        vector[t[word]-1] = 1\n",
    "    print(\"TEXT BEFORE ENCODING IS: \",text)\n",
    "    print(\"TEXT AFTER ENCODING IS: \",vector)\n",
    "    "
   ]
  },
  {
   "cell_type": "code",
   "execution_count": null,
   "id": "135e9eb5",
   "metadata": {},
   "outputs": [],
   "source": []
  }
 ],
 "metadata": {
  "kernelspec": {
   "display_name": "Python 3 (ipykernel)",
   "language": "python",
   "name": "python3"
  },
  "language_info": {
   "codemirror_mode": {
    "name": "ipython",
    "version": 3
   },
   "file_extension": ".py",
   "mimetype": "text/x-python",
   "name": "python",
   "nbconvert_exporter": "python",
   "pygments_lexer": "ipython3",
   "version": "3.10.9"
  }
 },
 "nbformat": 4,
 "nbformat_minor": 5
}
