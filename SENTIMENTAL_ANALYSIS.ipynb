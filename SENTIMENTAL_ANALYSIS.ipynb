{
 "cells": [
  {
   "cell_type": "code",
   "execution_count": 2,
   "id": "6884d3b2",
   "metadata": {},
   "outputs": [],
   "source": [
    "import nltk\n",
    "from nltk.tokenize import word_tokenize\n",
    "from sklearn.feature_extraction.text import CountVectorizer\n",
    "from sklearn.naive_bayes import GaussianNB\n",
    "from sklearn.svm import SVC\n",
    "from nltk.corpus import stopwords\n",
    "from nltk.stem import PorterStemmer\n",
    "import re\n",
    "import numpy as np"
   ]
  },
  {
   "cell_type": "code",
   "execution_count": 3,
   "id": "41dd9eb1",
   "metadata": {},
   "outputs": [],
   "source": [
    "train_text = ['just plain boring',\n",
    "             'entirely and lacks energy',\n",
    "             'no surprise and very few laughs',\n",
    "             'very powerful',\n",
    "             'the most fun film of summer',\n",
    "             ]\n",
    "train_label = [0,0,0,1,1]\n",
    "\n",
    "test = 'predictable with no fun and no energy boring'"
   ]
  },
  {
   "cell_type": "code",
   "execution_count": 4,
   "id": "7dfe7cd9",
   "metadata": {},
   "outputs": [],
   "source": [
    "def preprocess(text):\n",
    "    text = re.sub(r'<.*?>','',text)\n",
    "    tokens = word_tokenize(text)\n",
    "    tokens = [word for word in tokens if word.isalpha()]\n",
    "    stop_words = set(stopwords.words('English'))\n",
    "    tokens = [word for word in tokens if word.islower() not in stop_words]\n",
    "    stemmer = PorterStemmer()\n",
    "    tokens = [stemmer.stem(word) for word in tokens]\n",
    "    return ' '.join(tokens)"
   ]
  },
  {
   "cell_type": "code",
   "execution_count": 5,
   "id": "5a01719b",
   "metadata": {},
   "outputs": [
    {
     "data": {
      "text/plain": [
       "['just plain bore',\n",
       " 'entir and lack energi',\n",
       " 'no surpris and veri few laugh',\n",
       " 'veri power',\n",
       " 'the most fun film of summer']"
      ]
     },
     "execution_count": 5,
     "metadata": {},
     "output_type": "execute_result"
    }
   ],
   "source": [
    "for i,words in enumerate(train_text):\n",
    "    train_text[i] = preprocess(words)\n",
    "train_text    "
   ]
  },
  {
   "cell_type": "code",
   "execution_count": 6,
   "id": "416096c4",
   "metadata": {},
   "outputs": [
    {
     "name": "stdout",
     "output_type": "stream",
     "text": [
      "predict with no fun and no energi bore\n"
     ]
    }
   ],
   "source": [
    "test = preprocess(test)\n",
    "print(test)"
   ]
  },
  {
   "cell_type": "code",
   "execution_count": 7,
   "id": "eabc9f33",
   "metadata": {},
   "outputs": [
    {
     "data": {
      "text/plain": [
       "array(['bore', 'energi', 'entir', 'film', 'fun', 'just', 'lack', 'laugh',\n",
       "       'plain', 'power', 'summer', 'surpris', 'veri'], dtype=object)"
      ]
     },
     "execution_count": 7,
     "metadata": {},
     "output_type": "execute_result"
    }
   ],
   "source": [
    "count_vectorizer = CountVectorizer(stop_words=\"english\")\n",
    "train = count_vectorizer.fit_transform(train_text).toarray()\n",
    "features = count_vectorizer.get_feature_names_out()\n",
    "features"
   ]
  },
  {
   "cell_type": "code",
   "execution_count": 8,
   "id": "10fa08e8",
   "metadata": {},
   "outputs": [
    {
     "data": {
      "text/plain": [
       "array([[1, 0, 0, 0, 0, 1, 0, 0, 1, 0, 0, 0, 0],\n",
       "       [0, 1, 1, 0, 0, 0, 1, 0, 0, 0, 0, 0, 0],\n",
       "       [0, 0, 0, 0, 0, 0, 0, 1, 0, 0, 0, 1, 1],\n",
       "       [0, 0, 0, 0, 0, 0, 0, 0, 0, 1, 0, 0, 1],\n",
       "       [0, 0, 0, 1, 1, 0, 0, 0, 0, 0, 1, 0, 0]], dtype=int64)"
      ]
     },
     "execution_count": 8,
     "metadata": {},
     "output_type": "execute_result"
    }
   ],
   "source": [
    "train"
   ]
  },
  {
   "cell_type": "code",
   "execution_count": 9,
   "id": "0ab080f1",
   "metadata": {},
   "outputs": [
    {
     "data": {
      "text/plain": [
       "['predict', 'with', 'no', 'fun', 'and', 'no', 'energi', 'bore']"
      ]
     },
     "execution_count": 9,
     "metadata": {},
     "output_type": "execute_result"
    }
   ],
   "source": [
    "test = word_tokenize(test)\n",
    "test"
   ]
  },
  {
   "cell_type": "code",
   "execution_count": 10,
   "id": "537b9dd1",
   "metadata": {},
   "outputs": [
    {
     "data": {
      "text/plain": [
       "[1, 1, 0, 0, 1, 0, 0, 0, 0, 0, 0, 0, 0]"
      ]
     },
     "execution_count": 10,
     "metadata": {},
     "output_type": "execute_result"
    }
   ],
   "source": [
    "tv = [0 for i in range(len(features))]\n",
    "for i,idx in enumerate(features):\n",
    "    if idx in test:\n",
    "        tv[i]+= 1\n",
    "        \n",
    "tv        \n",
    "    "
   ]
  },
  {
   "cell_type": "markdown",
   "id": "c3594afa",
   "metadata": {},
   "source": [
    "USING NAIVE BAYES"
   ]
  },
  {
   "cell_type": "code",
   "execution_count": 11,
   "id": "14d37c1c",
   "metadata": {},
   "outputs": [
    {
     "name": "stdout",
     "output_type": "stream",
     "text": [
      "[[1 1 0 0 1 0 0 0 0 0 0 0 0]]\n"
     ]
    },
    {
     "data": {
      "text/plain": [
       "array([0])"
      ]
     },
     "execution_count": 11,
     "metadata": {},
     "output_type": "execute_result"
    }
   ],
   "source": [
    "model = GaussianNB()\n",
    "model.fit(train,train_label)\n",
    "print(np.array(tv).reshape(1,-1))\n",
    "model.predict(np.array(tv).reshape(1,-1))\n"
   ]
  },
  {
   "cell_type": "markdown",
   "id": "c12bb595",
   "metadata": {},
   "source": [
    "USING SVM"
   ]
  },
  {
   "cell_type": "code",
   "execution_count": 12,
   "id": "34d7709e",
   "metadata": {},
   "outputs": [
    {
     "name": "stdout",
     "output_type": "stream",
     "text": [
      "[[1 1 0 0 1 0 0 0 0 0 0 0 0]]\n"
     ]
    },
    {
     "data": {
      "text/plain": [
       "array([0])"
      ]
     },
     "execution_count": 12,
     "metadata": {},
     "output_type": "execute_result"
    }
   ],
   "source": [
    "model = SVC()\n",
    "model.fit(train,train_label)\n",
    "print(np.array(tv).reshape(1,-1))\n",
    "model.predict(np.array(tv).reshape(1,-1))"
   ]
  },
  {
   "cell_type": "code",
   "execution_count": null,
   "id": "c844a9f7",
   "metadata": {},
   "outputs": [],
   "source": []
  }
 ],
 "metadata": {
  "kernelspec": {
   "display_name": "Python 3 (ipykernel)",
   "language": "python",
   "name": "python3"
  },
  "language_info": {
   "codemirror_mode": {
    "name": "ipython",
    "version": 3
   },
   "file_extension": ".py",
   "mimetype": "text/x-python",
   "name": "python",
   "nbconvert_exporter": "python",
   "pygments_lexer": "ipython3",
   "version": "3.10.9"
  }
 },
 "nbformat": 4,
 "nbformat_minor": 5
}
