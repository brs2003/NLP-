{
 "cells": [
  {
   "cell_type": "markdown",
   "id": "95894498",
   "metadata": {},
   "source": [
    "To see how an english word is used in used in example text by making concordance\n"
   ]
  },
  {
   "cell_type": "code",
   "execution_count": 2,
   "id": "2f8ca66e",
   "metadata": {},
   "outputs": [],
   "source": [
    "import nltk\n",
    "from nltk.text import Text"
   ]
  },
  {
   "cell_type": "code",
   "execution_count": 3,
   "id": "dc30dc55",
   "metadata": {
    "scrolled": true
   },
   "outputs": [
    {
     "name": "stderr",
     "output_type": "stream",
     "text": [
      "[nltk_data] Downloading package punkt to\n",
      "[nltk_data]     C:\\Users\\HP\\AppData\\Roaming\\nltk_data...\n",
      "[nltk_data]   Package punkt is already up-to-date!\n"
     ]
    },
    {
     "data": {
      "text/plain": [
       "True"
      ]
     },
     "execution_count": 3,
     "metadata": {},
     "output_type": "execute_result"
    }
   ],
   "source": [
    "nltk.download('punkt')"
   ]
  },
  {
   "cell_type": "code",
   "execution_count": 4,
   "id": "3105d6ad",
   "metadata": {},
   "outputs": [
    {
     "name": "stdout",
     "output_type": "stream",
     "text": [
      "Enter the sentence: today is a sunny day. it may rain today. but probability is less. today we have pleasant weather. what a lovely day. \n",
      "<Text: today is a sunny day . it may...>\n"
     ]
    }
   ],
   "source": [
    "s = input(\"Enter the sentence: \")\n",
    "words = nltk.word_tokenize(s)\n",
    "\n",
    "text = nltk.Text(words)\n",
    "print(text)"
   ]
  },
  {
   "cell_type": "code",
   "execution_count": 5,
   "id": "acc35a04",
   "metadata": {},
   "outputs": [
    {
     "name": "stdout",
     "output_type": "stream",
     "text": [
      "Enter the word:today\n",
      "Displaying 3 of 3 matches:\n",
      " today is a sunny day . it may rain today .\n",
      "today is a sunny day . it may rain today . but probability is less . today we\n",
      "in today . but probability is less . today we have pleasant weather . what a lo\n"
     ]
    }
   ],
   "source": [
    "n = input(\"Enter the word:\")\n",
    "text.concordance(n)"
   ]
  },
  {
   "cell_type": "markdown",
   "id": "21ad5b20",
   "metadata": {},
   "source": [
    "--------------------------------------------------------------------------------------------------------------------------------\n",
    "Implement a Python program to count vocabulary:-\n",
    "a)Count tokens in a given text\n",
    "b)Count different words in a text\n",
    "c)Occurence of a word in text\n",
    "d)Percentage of all words in a text"
   ]
  },
  {
   "cell_type": "code",
   "execution_count": 19,
   "id": "ffbec44c",
   "metadata": {},
   "outputs": [
    {
     "name": "stdout",
     "output_type": "stream",
     "text": [
      "Enter the sentence: Today is a sunny day. It may rain today. But probability is less. Today we have a pleasent weather. What a lovely day.\n",
      "Number of tokens in a given text:- 28\n"
     ]
    }
   ],
   "source": [
    "#Counting\n",
    "\n",
    "s = input(\"Enter the sentence: \")\n",
    "words = nltk.word_tokenize(s)\n",
    "n = len(words)\n",
    "print(\"Number of tokens in a given text:-\",n)"
   ]
  },
  {
   "cell_type": "code",
   "execution_count": 22,
   "id": "39bc8ded",
   "metadata": {},
   "outputs": [
    {
     "name": "stdout",
     "output_type": "stream",
     "text": [
      "Distinct words: \n",
      "Today\n",
      "is\n",
      "a\n",
      "sunny\n",
      "day\n",
      ".\n",
      "It\n",
      "may\n",
      "rain\n",
      "today\n",
      "But\n",
      "probability\n",
      "less\n",
      "we\n",
      "have\n",
      "pleasent\n",
      "weather\n",
      "What\n",
      "lovely\n",
      "No of distinct words =  19\n"
     ]
    }
   ],
   "source": [
    "#b)Count different words in a text \n",
    "list = []\n",
    "count = 0\n",
    "print(\"Distinct words: \")\n",
    "for word in words:\n",
    "    if word not in list:\n",
    "        list.append(word)\n",
    "        print(word)\n",
    "        count+= 1\n",
    "        \n",
    "print(\"No of distinct words = \",count)        "
   ]
  },
  {
   "cell_type": "code",
   "execution_count": 25,
   "id": "21683df7",
   "metadata": {},
   "outputs": [
    {
     "data": {
      "text/plain": [
       "FreqDist({'.': 5, 'a': 3, 'Today': 2, 'is': 2, 'day': 2, 'sunny': 1, 'It': 1, 'may': 1, 'rain': 1, 'today': 1, ...})"
      ]
     },
     "execution_count": 25,
     "metadata": {},
     "output_type": "execute_result"
    }
   ],
   "source": [
    "#c)Occurence of a word in text \n",
    "from nltk import FreqDist\n",
    "fq = FreqDist(words)\n",
    "fq"
   ]
  },
  {
   "cell_type": "code",
   "execution_count": 28,
   "id": "f21ee0e2",
   "metadata": {},
   "outputs": [
    {
     "name": "stdout",
     "output_type": "stream",
     "text": [
      "Percentage of  . :  17.857142857142858\n",
      "Percentage of  a :  10.714285714285714\n",
      "Percentage of  Today :  7.142857142857142\n",
      "Percentage of  is :  7.142857142857142\n",
      "Percentage of  day :  7.142857142857142\n",
      "Percentage of  sunny :  3.571428571428571\n",
      "Percentage of  It :  3.571428571428571\n",
      "Percentage of  may :  3.571428571428571\n",
      "Percentage of  rain :  3.571428571428571\n",
      "Percentage of  today :  3.571428571428571\n",
      "Percentage of  But :  3.571428571428571\n",
      "Percentage of  probability :  3.571428571428571\n",
      "Percentage of  less :  3.571428571428571\n",
      "Percentage of  we :  3.571428571428571\n",
      "Percentage of  have :  3.571428571428571\n",
      "Percentage of  pleasent :  3.571428571428571\n",
      "Percentage of  weather :  3.571428571428571\n",
      "Percentage of  What :  3.571428571428571\n",
      "Percentage of  lovely :  3.571428571428571\n"
     ]
    }
   ],
   "source": [
    "#d)Percentage of all words in a text\n",
    "for word in fq:\n",
    "    r = fq[word]\n",
    "    percent = r/n*100\n",
    "    print(\"Percentage of \",word,\": \", percent)\n"
   ]
  },
  {
   "cell_type": "code",
   "execution_count": null,
   "id": "8b70b5a9",
   "metadata": {},
   "outputs": [],
   "source": []
  }
 ],
 "metadata": {
  "kernelspec": {
   "display_name": "Python 3 (ipykernel)",
   "language": "python",
   "name": "python3"
  },
  "language_info": {
   "codemirror_mode": {
    "name": "ipython",
    "version": 3
   },
   "file_extension": ".py",
   "mimetype": "text/x-python",
   "name": "python",
   "nbconvert_exporter": "python",
   "pygments_lexer": "ipython3",
   "version": "3.10.9"
  }
 },
 "nbformat": 4,
 "nbformat_minor": 5
}
