{
 "cells": [
  {
   "cell_type": "code",
   "execution_count": 32,
   "id": "c5a7c6bd",
   "metadata": {},
   "outputs": [],
   "source": [
    "import nltk\n",
    "from nltk.tokenize import word_tokenize,sent_tokenize\n",
    "from nltk.corpus import stopwords\n",
    "from nltk.stem import PorterStemmer\n",
    "from sklearn.feature_extraction.text import TfidfVectorizer\n",
    "import pandas as pd"
   ]
  },
  {
   "cell_type": "code",
   "execution_count": 33,
   "id": "2ae0e234",
   "metadata": {},
   "outputs": [
    {
     "name": "stdout",
     "output_type": "stream",
     "text": [
      "Roses are red. Violets are blue. Violet flowers are rare.\n",
      "\n"
     ]
    }
   ],
   "source": [
    "f = open(\"tfidf.txt\",\"r\")\n",
    "text =f.read()\n",
    "print(text)"
   ]
  },
  {
   "cell_type": "code",
   "execution_count": 34,
   "id": "aa1c2f78",
   "metadata": {},
   "outputs": [
    {
     "name": "stdout",
     "output_type": "stream",
     "text": [
      "['Roses are red.', 'Violets are blue.', 'Violet flowers are rare.']\n"
     ]
    }
   ],
   "source": [
    "#Preprocessing\n",
    "\n",
    "sentence = sent_tokenize(text)\n",
    "stemmer = PorterStemmer()\n",
    "print(sentence)                 "
   ]
  },
  {
   "cell_type": "code",
   "execution_count": 35,
   "id": "26a4518b",
   "metadata": {},
   "outputs": [
    {
     "name": "stdout",
     "output_type": "stream",
     "text": [
      "SENTENCE AFTER PREPROCESSING:-  ['rose are red ', 'violet are blue ', 'violet flower are rare ']\n"
     ]
    }
   ],
   "source": [
    "i=0\n",
    "while(i<len(sentence)):\n",
    "    tokens = word_tokenize(sentence[i])\n",
    "    for token in tokens:\n",
    "        if token.isalpha():\n",
    "            sentence[i] = sentence[i].replace(token, stemmer.stem(token))\n",
    "        else:\n",
    "            sentence[i] = sentence[i].replace(token, \" \")\n",
    "    i += 1        \n",
    "print(\"SENTENCE AFTER PREPROCESSING:- \",sentence)    "
   ]
  },
  {
   "cell_type": "code",
   "execution_count": 40,
   "id": "e412c194",
   "metadata": {},
   "outputs": [
    {
     "data": {
      "text/plain": [
       "array(['are', 'blue', 'flower', 'rare', 'red', 'rose', 'violet'],\n",
       "      dtype=object)"
      ]
     },
     "execution_count": 40,
     "metadata": {},
     "output_type": "execute_result"
    }
   ],
   "source": [
    "tfidf_vectorizer = TfidfVectorizer()\n",
    "tfidf_matrix = tfidf_vectorizer.fit_transform(sentence)\n",
    "feature_names = tfidf_vectorizer.get_feature_names_out()\n",
    "feature_names"
   ]
  },
  {
   "cell_type": "code",
   "execution_count": 41,
   "id": "72ca3f26",
   "metadata": {},
   "outputs": [
    {
     "name": "stdout",
     "output_type": "stream",
     "text": [
      "        are      blue    flower      rare       red      rose    violet\n",
      "0  0.385372  0.000000  0.000000  0.000000  0.652491  0.652491  0.000000\n",
      "1  0.425441  0.720333  0.000000  0.000000  0.000000  0.000000  0.547832\n",
      "2  0.345205  0.000000  0.584483  0.584483  0.000000  0.000000  0.444514\n"
     ]
    }
   ],
   "source": [
    "dense_array = tfidf_matrix.toarray()\n",
    "df_tfidf = pd.DataFrame(dense_array,columns =  feature_names)\n",
    "print(df_tfidf)"
   ]
  },
  {
   "cell_type": "code",
   "execution_count": null,
   "id": "89904901",
   "metadata": {},
   "outputs": [],
   "source": []
  }
 ],
 "metadata": {
  "kernelspec": {
   "display_name": "Python 3 (ipykernel)",
   "language": "python",
   "name": "python3"
  },
  "language_info": {
   "codemirror_mode": {
    "name": "ipython",
    "version": 3
   },
   "file_extension": ".py",
   "mimetype": "text/x-python",
   "name": "python",
   "nbconvert_exporter": "python",
   "pygments_lexer": "ipython3",
   "version": "3.10.9"
  }
 },
 "nbformat": 4,
 "nbformat_minor": 5
}
