{
 "cells": [
  {
   "cell_type": "code",
   "execution_count": 1,
   "id": "2f77ee11",
   "metadata": {},
   "outputs": [],
   "source": [
    "import nltk\n",
    "from nltk.tokenize import word_tokenize"
   ]
  },
  {
   "cell_type": "code",
   "execution_count": 3,
   "id": "66368f06",
   "metadata": {},
   "outputs": [
    {
     "name": "stdout",
     "output_type": "stream",
     "text": [
      "ENTER THE NUMBER OF DOCUMENT FOR ONE HOT VECTOR ENCODING:- 4\n",
      "ENTER THE 1st DOCUMENT:- dog bites man\n",
      "ENTER THE 2st DOCUMENT:- man bites dog\n",
      "ENTER THE 3st DOCUMENT:- dog eats meat\n",
      "ENTER THE 4st DOCUMENT:- man eats food\n"
     ]
    }
   ],
   "source": [
    "doc=[]\n",
    "n = int(input(\"ENTER THE NUMBER OF DOCUMENT FOR ONE HOT VECTOR ENCODING:- \"))\n",
    "for i in range(n):\n",
    "    d = input(\"ENTER THE \"+str(i+1)+\"st DOCUMENT:- \")\n",
    "    doc.append(d)"
   ]
  },
  {
   "cell_type": "code",
   "execution_count": 4,
   "id": "9e39d726",
   "metadata": {},
   "outputs": [
    {
     "name": "stdout",
     "output_type": "stream",
     "text": [
      "['dog bites man', 'man bites dog', 'dog eats meat', 'man eats food']\n"
     ]
    }
   ],
   "source": [
    "print(doc)"
   ]
  },
  {
   "cell_type": "code",
   "execution_count": 6,
   "id": "b5598452",
   "metadata": {},
   "outputs": [],
   "source": [
    "text = \" \"\n",
    "for i in doc:\n",
    "    text = text+\" \"+i.lower()"
   ]
  },
  {
   "cell_type": "code",
   "execution_count": 7,
   "id": "7d91722b",
   "metadata": {},
   "outputs": [
    {
     "name": "stdout",
     "output_type": "stream",
     "text": [
      "  dog bites man man bites dog dog eats meat man eats food\n"
     ]
    }
   ],
   "source": [
    "print(text)"
   ]
  },
  {
   "cell_type": "code",
   "execution_count": 8,
   "id": "83df1088",
   "metadata": {},
   "outputs": [
    {
     "name": "stdout",
     "output_type": "stream",
     "text": [
      "{'eats', 'man', 'bites', 'meat', 'food', 'dog'}\n"
     ]
    }
   ],
   "source": [
    "tok = set(word_tokenize(text))\n",
    "print(tok)"
   ]
  },
  {
   "cell_type": "code",
   "execution_count": 10,
   "id": "d8cc0dd4",
   "metadata": {},
   "outputs": [
    {
     "name": "stdout",
     "output_type": "stream",
     "text": [
      "{'eats': 1, 'man': 2, 'bites': 3, 'meat': 4, 'food': 5, 'dog': 6}\n"
     ]
    }
   ],
   "source": [
    "t = dict()\n",
    "for i,w in enumerate(tok):\n",
    "    t[w] = i+1\n",
    "print(t)    "
   ]
  },
  {
   "cell_type": "code",
   "execution_count": 16,
   "id": "e878d0e3",
   "metadata": {},
   "outputs": [
    {
     "name": "stdout",
     "output_type": "stream",
     "text": [
      "DOCUMENT BEFORE ENCODING:-  dog bites man\n",
      "DOCUMENT BEFORE ENCODING:-  [[0, 0, 0, 0, 0, 1], [0, 0, 1, 0, 0, 0], [0, 1, 0, 0, 0, 0]]\n",
      "DOCUMENT BEFORE ENCODING:-  man bites dog\n",
      "DOCUMENT BEFORE ENCODING:-  [[0, 1, 0, 0, 0, 0], [0, 0, 1, 0, 0, 0], [0, 0, 0, 0, 0, 1]]\n",
      "DOCUMENT BEFORE ENCODING:-  dog eats meat\n",
      "DOCUMENT BEFORE ENCODING:-  [[0, 0, 0, 0, 0, 1], [1, 0, 0, 0, 0, 0], [0, 0, 0, 1, 0, 0]]\n",
      "DOCUMENT BEFORE ENCODING:-  man eats food\n",
      "DOCUMENT BEFORE ENCODING:-  [[0, 1, 0, 0, 0, 0], [1, 0, 0, 0, 0, 0], [0, 0, 0, 0, 1, 0]]\n"
     ]
    }
   ],
   "source": [
    "for text in doc:\n",
    "    one_hot_vector = []\n",
    "    for word in text.split():\n",
    "        vector = [0 for i in range(len(tok))]\n",
    "        vector[t[word]-1] = 1\n",
    "        one_hot_vector.append(vector)\n",
    "    print(\"DOCUMENT BEFORE ENCODING:- \",text)\n",
    "    print(\"DOCUMENT BEFORE ENCODING:- \",one_hot_vector)\n",
    "        "
   ]
  },
  {
   "cell_type": "code",
   "execution_count": null,
   "id": "c6f79ede",
   "metadata": {},
   "outputs": [],
   "source": []
  }
 ],
 "metadata": {
  "kernelspec": {
   "display_name": "Python 3 (ipykernel)",
   "language": "python",
   "name": "python3"
  },
  "language_info": {
   "codemirror_mode": {
    "name": "ipython",
    "version": 3
   },
   "file_extension": ".py",
   "mimetype": "text/x-python",
   "name": "python",
   "nbconvert_exporter": "python",
   "pygments_lexer": "ipython3",
   "version": "3.10.9"
  }
 },
 "nbformat": 4,
 "nbformat_minor": 5
}
