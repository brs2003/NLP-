{
 "cells": [
  {
   "cell_type": "code",
   "execution_count": 58,
   "id": "f229da22",
   "metadata": {},
   "outputs": [],
   "source": [
    "import nltk"
   ]
  },
  {
   "cell_type": "code",
   "execution_count": 59,
   "id": "c9c71f54",
   "metadata": {},
   "outputs": [],
   "source": [
    "documents = [\n",
    "    'Modi is the Prime Minister of India',\n",
    "    'Biden is the president of USA',\n",
    "    'Putin is the president of russia',\n",
    "    'Sunak is the prime minister of UK',\n",
    "            ]"
   ]
  },
  {
   "cell_type": "code",
   "execution_count": 60,
   "id": "95c0ad8a",
   "metadata": {},
   "outputs": [],
   "source": [
    "from sklearn.feature_extraction.text import CountVectorizer\n",
    "from sklearn.metrics.pairwise import cosine_similarity\n",
    "import pandas as pd\n",
    "import numpy as np"
   ]
  },
  {
   "cell_type": "code",
   "execution_count": 61,
   "id": "df6c76b4",
   "metadata": {},
   "outputs": [
    {
     "name": "stdout",
     "output_type": "stream",
     "text": [
      "ASK THE QUESTION:- who is the president of usa\n"
     ]
    },
    {
     "data": {
      "text/plain": [
       "['who is the president of usa',\n",
       " 'Modi is the Prime Minister of India',\n",
       " 'Biden is the president of USA',\n",
       " 'Putin is the president of russia',\n",
       " 'Sunak is the prime minister of UK']"
      ]
     },
     "execution_count": 61,
     "metadata": {},
     "output_type": "execute_result"
    }
   ],
   "source": [
    "text = input(\"ASK THE QUESTION:- \")\n",
    "documents = [text]+documents\n",
    "documents"
   ]
  },
  {
   "cell_type": "code",
   "execution_count": 62,
   "id": "187c146b",
   "metadata": {},
   "outputs": [
    {
     "data": {
      "text/plain": [
       "matrix([[0, 0, 0, 0, 1, 0, 0, 0, 0, 0, 1],\n",
       "        [0, 1, 1, 1, 0, 1, 0, 0, 0, 0, 0],\n",
       "        [1, 0, 0, 0, 1, 0, 0, 0, 0, 0, 1],\n",
       "        [0, 0, 0, 0, 1, 0, 1, 1, 0, 0, 0],\n",
       "        [0, 0, 1, 0, 0, 1, 0, 0, 1, 1, 0]], dtype=int64)"
      ]
     },
     "execution_count": 62,
     "metadata": {},
     "output_type": "execute_result"
    }
   ],
   "source": [
    "count_vectorizer = CountVectorizer(stop_words =\"english\")\n",
    "vectorizer = count_vectorizer.fit_transform(documents)\n",
    "vectors = vectorizer.todense()\n",
    "vectors"
   ]
  },
  {
   "cell_type": "code",
   "execution_count": 63,
   "id": "324561b2",
   "metadata": {},
   "outputs": [
    {
     "data": {
      "text/html": [
       "<div>\n",
       "<style scoped>\n",
       "    .dataframe tbody tr th:only-of-type {\n",
       "        vertical-align: middle;\n",
       "    }\n",
       "\n",
       "    .dataframe tbody tr th {\n",
       "        vertical-align: top;\n",
       "    }\n",
       "\n",
       "    .dataframe thead th {\n",
       "        text-align: right;\n",
       "    }\n",
       "</style>\n",
       "<table border=\"1\" class=\"dataframe\">\n",
       "  <thead>\n",
       "    <tr style=\"text-align: right;\">\n",
       "      <th></th>\n",
       "      <th>0</th>\n",
       "      <th>1</th>\n",
       "      <th>2</th>\n",
       "      <th>3</th>\n",
       "      <th>4</th>\n",
       "      <th>5</th>\n",
       "      <th>6</th>\n",
       "      <th>7</th>\n",
       "      <th>8</th>\n",
       "      <th>9</th>\n",
       "      <th>10</th>\n",
       "    </tr>\n",
       "  </thead>\n",
       "  <tbody>\n",
       "    <tr>\n",
       "      <th>0</th>\n",
       "      <td>0</td>\n",
       "      <td>0</td>\n",
       "      <td>0</td>\n",
       "      <td>0</td>\n",
       "      <td>1</td>\n",
       "      <td>0</td>\n",
       "      <td>0</td>\n",
       "      <td>0</td>\n",
       "      <td>0</td>\n",
       "      <td>0</td>\n",
       "      <td>1</td>\n",
       "    </tr>\n",
       "    <tr>\n",
       "      <th>1</th>\n",
       "      <td>0</td>\n",
       "      <td>1</td>\n",
       "      <td>1</td>\n",
       "      <td>1</td>\n",
       "      <td>0</td>\n",
       "      <td>1</td>\n",
       "      <td>0</td>\n",
       "      <td>0</td>\n",
       "      <td>0</td>\n",
       "      <td>0</td>\n",
       "      <td>0</td>\n",
       "    </tr>\n",
       "    <tr>\n",
       "      <th>2</th>\n",
       "      <td>1</td>\n",
       "      <td>0</td>\n",
       "      <td>0</td>\n",
       "      <td>0</td>\n",
       "      <td>1</td>\n",
       "      <td>0</td>\n",
       "      <td>0</td>\n",
       "      <td>0</td>\n",
       "      <td>0</td>\n",
       "      <td>0</td>\n",
       "      <td>1</td>\n",
       "    </tr>\n",
       "    <tr>\n",
       "      <th>3</th>\n",
       "      <td>0</td>\n",
       "      <td>0</td>\n",
       "      <td>0</td>\n",
       "      <td>0</td>\n",
       "      <td>1</td>\n",
       "      <td>0</td>\n",
       "      <td>1</td>\n",
       "      <td>1</td>\n",
       "      <td>0</td>\n",
       "      <td>0</td>\n",
       "      <td>0</td>\n",
       "    </tr>\n",
       "    <tr>\n",
       "      <th>4</th>\n",
       "      <td>0</td>\n",
       "      <td>0</td>\n",
       "      <td>1</td>\n",
       "      <td>0</td>\n",
       "      <td>0</td>\n",
       "      <td>1</td>\n",
       "      <td>0</td>\n",
       "      <td>0</td>\n",
       "      <td>1</td>\n",
       "      <td>1</td>\n",
       "      <td>0</td>\n",
       "    </tr>\n",
       "  </tbody>\n",
       "</table>\n",
       "</div>"
      ],
      "text/plain": [
       "   0   1   2   3   4   5   6   7   8   9   10\n",
       "0   0   0   0   0   1   0   0   0   0   0   1\n",
       "1   0   1   1   1   0   1   0   0   0   0   0\n",
       "2   1   0   0   0   1   0   0   0   0   0   1\n",
       "3   0   0   0   0   1   0   1   1   0   0   0\n",
       "4   0   0   1   0   0   1   0   0   1   1   0"
      ]
     },
     "execution_count": 63,
     "metadata": {},
     "output_type": "execute_result"
    }
   ],
   "source": [
    "df = pd.DataFrame(vectors)\n",
    "df"
   ]
  },
  {
   "cell_type": "code",
   "execution_count": 64,
   "id": "13b2514a",
   "metadata": {},
   "outputs": [
    {
     "data": {
      "text/plain": [
       "array([[1.        , 0.        , 0.81649658, 0.40824829, 0.        ],\n",
       "       [0.        , 1.        , 0.        , 0.        , 0.5       ],\n",
       "       [0.81649658, 0.        , 1.        , 0.33333333, 0.        ],\n",
       "       [0.40824829, 0.        , 0.33333333, 1.        , 0.        ],\n",
       "       [0.        , 0.5       , 0.        , 0.        , 1.        ]])"
      ]
     },
     "execution_count": 64,
     "metadata": {},
     "output_type": "execute_result"
    }
   ],
   "source": [
    "d = cosine_similarity(df,df)\n",
    "d"
   ]
  },
  {
   "cell_type": "code",
   "execution_count": 65,
   "id": "d0d355e1",
   "metadata": {},
   "outputs": [
    {
     "data": {
      "text/plain": [
       "1"
      ]
     },
     "execution_count": 65,
     "metadata": {},
     "output_type": "execute_result"
    }
   ],
   "source": [
    "similar = np.argmax(d[0][1:])\n",
    "similar"
   ]
  },
  {
   "cell_type": "code",
   "execution_count": 67,
   "id": "3a9ebe73",
   "metadata": {},
   "outputs": [
    {
     "data": {
      "text/plain": [
       "[('Biden', 'NNP'),\n",
       " ('is', 'VBZ'),\n",
       " ('the', 'DT'),\n",
       " ('president', 'NN'),\n",
       " ('of', 'IN'),\n",
       " ('USA', 'NNP')]"
      ]
     },
     "execution_count": 67,
     "metadata": {},
     "output_type": "execute_result"
    }
   ],
   "source": [
    "context = documents[similar+1]\n",
    "pos_tag = nltk.pos_tag(nltk.word_tokenize(context))\n",
    "pos_tag"
   ]
  },
  {
   "cell_type": "code",
   "execution_count": 69,
   "id": "eb0fa22a",
   "metadata": {},
   "outputs": [
    {
     "data": {
      "text/plain": [
       "[('Biden', 'NNP', 'B-GPE'),\n",
       " ('is', 'VBZ', 'O'),\n",
       " ('the', 'DT', 'O'),\n",
       " ('president', 'NN', 'O'),\n",
       " ('of', 'IN', 'O'),\n",
       " ('USA', 'NNP', 'B-ORGANIZATION')]"
      ]
     },
     "execution_count": 69,
     "metadata": {},
     "output_type": "execute_result"
    }
   ],
   "source": [
    "ner_tagged_tokens = nltk.ne_chunk(pos_tag)\n",
    "iob_tagged = nltk.chunk.util.tree2conlltags(ner_tagged_tokens)\n",
    "iob_tagged"
   ]
  },
  {
   "cell_type": "code",
   "execution_count": 71,
   "id": "7ffcd966",
   "metadata": {},
   "outputs": [
    {
     "name": "stdout",
     "output_type": "stream",
     "text": [
      "Biden\n"
     ]
    }
   ],
   "source": [
    "for tag in iob_tagged:\n",
    "    if tag[1] == 'B-PERSON' or tag[2] == 'B-GPE':\n",
    "        print(tag[0])"
   ]
  },
  {
   "cell_type": "code",
   "execution_count": null,
   "id": "5a34f507",
   "metadata": {},
   "outputs": [],
   "source": []
  }
 ],
 "metadata": {
  "kernelspec": {
   "display_name": "Python 3 (ipykernel)",
   "language": "python",
   "name": "python3"
  },
  "language_info": {
   "codemirror_mode": {
    "name": "ipython",
    "version": 3
   },
   "file_extension": ".py",
   "mimetype": "text/x-python",
   "name": "python",
   "nbconvert_exporter": "python",
   "pygments_lexer": "ipython3",
   "version": "3.10.9"
  }
 },
 "nbformat": 4,
 "nbformat_minor": 5
}
