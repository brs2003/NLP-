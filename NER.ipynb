{
 "cells": [
  {
   "cell_type": "code",
   "execution_count": 1,
   "id": "f4d13108",
   "metadata": {},
   "outputs": [
    {
     "name": "stdout",
     "output_type": "stream",
     "text": [
      "ENTER THE SENTENCE TO BE TAGGED:- James Bond counted microchips in a disk and Steve Paul founded App.\n"
     ]
    }
   ],
   "source": [
    "import nltk\n",
    "sentence = input(\"ENTER THE SENTENCE TO BE TAGGED:- \")"
   ]
  },
  {
   "cell_type": "code",
   "execution_count": 2,
   "id": "305dd45c",
   "metadata": {},
   "outputs": [
    {
     "data": {
      "text/plain": [
       "['James',\n",
       " 'Bond',\n",
       " 'counted',\n",
       " 'microchips',\n",
       " 'in',\n",
       " 'a',\n",
       " 'disk',\n",
       " 'and',\n",
       " 'Steve',\n",
       " 'Paul',\n",
       " 'founded',\n",
       " 'App',\n",
       " '.']"
      ]
     },
     "execution_count": 2,
     "metadata": {},
     "output_type": "execute_result"
    }
   ],
   "source": [
    "tokens = nltk.word_tokenize(sentence)\n",
    "tokens"
   ]
  },
  {
   "cell_type": "code",
   "execution_count": 3,
   "id": "e55936d0",
   "metadata": {},
   "outputs": [
    {
     "data": {
      "text/plain": [
       "[('James', 'NNP'),\n",
       " ('Bond', 'NNP'),\n",
       " ('counted', 'VBD'),\n",
       " ('microchips', 'NNS'),\n",
       " ('in', 'IN'),\n",
       " ('a', 'DT'),\n",
       " ('disk', 'NN'),\n",
       " ('and', 'CC'),\n",
       " ('Steve', 'NNP'),\n",
       " ('Paul', 'NNP'),\n",
       " ('founded', 'VBD'),\n",
       " ('App', 'NNP'),\n",
       " ('.', '.')]"
      ]
     },
     "execution_count": 3,
     "metadata": {},
     "output_type": "execute_result"
    }
   ],
   "source": [
    "tagged = nltk.pos_tag(tokens)\n",
    "tagged"
   ]
  },
  {
   "cell_type": "code",
   "execution_count": 9,
   "id": "64480e4d",
   "metadata": {},
   "outputs": [
    {
     "ename": "ModuleNotFoundError",
     "evalue": "No module named 'svgling'",
     "output_type": "error",
     "traceback": [
      "\u001b[1;31m---------------------------------------------------------------------------\u001b[0m",
      "\u001b[1;31mModuleNotFoundError\u001b[0m                       Traceback (most recent call last)",
      "File \u001b[1;32m~\\anaconda3\\lib\\site-packages\\IPython\\core\\formatters.py:342\u001b[0m, in \u001b[0;36mBaseFormatter.__call__\u001b[1;34m(self, obj)\u001b[0m\n\u001b[0;32m    340\u001b[0m     method \u001b[38;5;241m=\u001b[39m get_real_method(obj, \u001b[38;5;28mself\u001b[39m\u001b[38;5;241m.\u001b[39mprint_method)\n\u001b[0;32m    341\u001b[0m     \u001b[38;5;28;01mif\u001b[39;00m method \u001b[38;5;129;01mis\u001b[39;00m \u001b[38;5;129;01mnot\u001b[39;00m \u001b[38;5;28;01mNone\u001b[39;00m:\n\u001b[1;32m--> 342\u001b[0m         \u001b[38;5;28;01mreturn\u001b[39;00m \u001b[43mmethod\u001b[49m\u001b[43m(\u001b[49m\u001b[43m)\u001b[49m\n\u001b[0;32m    343\u001b[0m     \u001b[38;5;28;01mreturn\u001b[39;00m \u001b[38;5;28;01mNone\u001b[39;00m\n\u001b[0;32m    344\u001b[0m \u001b[38;5;28;01melse\u001b[39;00m:\n",
      "File \u001b[1;32m~\\anaconda3\\lib\\site-packages\\nltk\\tree\\tree.py:782\u001b[0m, in \u001b[0;36mTree._repr_svg_\u001b[1;34m(self)\u001b[0m\n\u001b[0;32m    781\u001b[0m \u001b[38;5;28;01mdef\u001b[39;00m \u001b[38;5;21m_repr_svg_\u001b[39m(\u001b[38;5;28mself\u001b[39m):\n\u001b[1;32m--> 782\u001b[0m     \u001b[38;5;28;01mfrom\u001b[39;00m \u001b[38;5;21;01msvgling\u001b[39;00m \u001b[38;5;28;01mimport\u001b[39;00m draw_tree\n\u001b[0;32m    784\u001b[0m     \u001b[38;5;28;01mreturn\u001b[39;00m draw_tree(\u001b[38;5;28mself\u001b[39m)\u001b[38;5;241m.\u001b[39m_repr_svg_()\n",
      "\u001b[1;31mModuleNotFoundError\u001b[0m: No module named 'svgling'"
     ]
    },
    {
     "data": {
      "text/plain": [
       "Tree('S', [Tree('PERSON', [('James', 'NNP')]), Tree('PERSON', [('Bond', 'NNP')]), ('counted', 'VBD'), ('microchips', 'NNS'), ('in', 'IN'), ('a', 'DT'), ('disk', 'NN'), ('and', 'CC'), Tree('PERSON', [('Steve', 'NNP'), ('Paul', 'NNP')]), ('founded', 'VBD'), Tree('PERSON', [('App', 'NNP')]), ('.', '.')])"
      ]
     },
     "execution_count": 9,
     "metadata": {},
     "output_type": "execute_result"
    }
   ],
   "source": [
    "ner_tagged_tokens = nltk.ne_chunk(tagged)\n",
    "ner_tagged_tokens"
   ]
  },
  {
   "cell_type": "code",
   "execution_count": 10,
   "id": "295227e2",
   "metadata": {},
   "outputs": [],
   "source": [
    "iob_tagged = nltk.chunk.util.tree2conlltags(ner_tagged_tokens)"
   ]
  },
  {
   "cell_type": "code",
   "execution_count": 11,
   "id": "8c454092",
   "metadata": {},
   "outputs": [
    {
     "data": {
      "text/plain": [
       "[('James', 'NNP', 'B-PERSON'),\n",
       " ('Bond', 'NNP', 'B-PERSON'),\n",
       " ('counted', 'VBD', 'O'),\n",
       " ('microchips', 'NNS', 'O'),\n",
       " ('in', 'IN', 'O'),\n",
       " ('a', 'DT', 'O'),\n",
       " ('disk', 'NN', 'O'),\n",
       " ('and', 'CC', 'O'),\n",
       " ('Steve', 'NNP', 'B-PERSON'),\n",
       " ('Paul', 'NNP', 'I-PERSON'),\n",
       " ('founded', 'VBD', 'O'),\n",
       " ('App', 'NNP', 'B-PERSON'),\n",
       " ('.', '.', 'O')]"
      ]
     },
     "execution_count": 11,
     "metadata": {},
     "output_type": "execute_result"
    }
   ],
   "source": [
    "iob_tagged"
   ]
  },
  {
   "cell_type": "code",
   "execution_count": 12,
   "id": "63067b30",
   "metadata": {},
   "outputs": [
    {
     "name": "stdout",
     "output_type": "stream",
     "text": [
      "(PERSON James/NNP)\n",
      "(PERSON Bond/NNP)\n",
      "(PERSON Steve/NNP Paul/NNP)\n",
      "(PERSON App/NNP)\n"
     ]
    }
   ],
   "source": [
    "for c in ner_tagged_tokens:\n",
    "    if hasattr(c,'label'):\n",
    "        print(c)"
   ]
  },
  {
   "cell_type": "code",
   "execution_count": null,
   "id": "fc97fe83",
   "metadata": {},
   "outputs": [],
   "source": []
  }
 ],
 "metadata": {
  "kernelspec": {
   "display_name": "Python 3 (ipykernel)",
   "language": "python",
   "name": "python3"
  },
  "language_info": {
   "codemirror_mode": {
    "name": "ipython",
    "version": 3
   },
   "file_extension": ".py",
   "mimetype": "text/x-python",
   "name": "python",
   "nbconvert_exporter": "python",
   "pygments_lexer": "ipython3",
   "version": "3.10.9"
  }
 },
 "nbformat": 4,
 "nbformat_minor": 5
}
