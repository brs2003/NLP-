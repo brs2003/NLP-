{
 "cells": [
  {
   "cell_type": "code",
   "execution_count": 25,
   "id": "59059014",
   "metadata": {},
   "outputs": [],
   "source": [
    "import numpy as np\n",
    "import nltk\n",
    "from sklearn.metrics.pairwise import cosine_similarity\n",
    "from nltk.tokenize import word_tokenize,sent_tokenize\n",
    "from sklearn.feature_extraction.text import CountVectorizer\n",
    "from nltk.corpus import stopwords"
   ]
  },
  {
   "cell_type": "code",
   "execution_count": 26,
   "id": "8849a91a",
   "metadata": {},
   "outputs": [
    {
     "name": "stdout",
     "output_type": "stream",
     "text": [
      "Dog bites man. Man bites dog. Dog eats meat. Man eats food.\n"
     ]
    }
   ],
   "source": [
    "f = open(\"cosine.txt\",\"r\")\n",
    "text = f.read()\n",
    "print(text)"
   ]
  },
  {
   "cell_type": "code",
   "execution_count": 27,
   "id": "09d17ec1",
   "metadata": {},
   "outputs": [
    {
     "name": "stdout",
     "output_type": "stream",
     "text": [
      "FILTERED SENTENCE IS:-  ['Dog', 'bites', 'man', 'Man', 'bites', 'dog', 'Dog', 'eats', 'meat', 'Man', 'eats', 'food']\n"
     ]
    }
   ],
   "source": [
    "sentences = sent_tokenize(text)\n",
    "i=0\n",
    "stop_words = set(stopwords.words('English'))\n",
    "filtered_sent = []\n",
    "while (i<len(sentences)):\n",
    "    tokens = word_tokenize(sentences[i])\n",
    "    for token in tokens:\n",
    "        if token not in stop_words and token.isalpha():\n",
    "            filtered_sent.append(token)\n",
    "    i += 1\n",
    "    \n",
    "print(\"FILTERED SENTENCE IS:- \",filtered_sent)    "
   ]
  },
  {
   "cell_type": "code",
   "execution_count": 28,
   "id": "e0c69a58",
   "metadata": {},
   "outputs": [
    {
     "name": "stdout",
     "output_type": "stream",
     "text": [
      "ENTER THE SENTENCE TO CHECK SIMILARITY:-man eats meat\n"
     ]
    }
   ],
   "source": [
    "x = input(\"ENTER THE SENTENCE TO CHECK SIMILARITY:-\")\n",
    "tokens = word_tokenize(x)\n",
    "filtered_sentence = []\n",
    "for token in tokens:\n",
    "    if token not in stop_words:\n",
    "        filtered_sentence.append(token)\n",
    "        "
   ]
  },
  {
   "cell_type": "code",
   "execution_count": 29,
   "id": "63224377",
   "metadata": {},
   "outputs": [
    {
     "name": "stdout",
     "output_type": "stream",
     "text": [
      "['man', 'eats', 'meat']\n"
     ]
    }
   ],
   "source": [
    "print(filtered_sentence)"
   ]
  },
  {
   "cell_type": "code",
   "execution_count": 30,
   "id": "00033ea5",
   "metadata": {},
   "outputs": [
    {
     "data": {
      "text/plain": [
       "'man eats meat'"
      ]
     },
     "execution_count": 30,
     "metadata": {},
     "output_type": "execute_result"
    }
   ],
   "source": [
    "x = \" \".join(filtered_sentence)\n",
    "x"
   ]
  },
  {
   "cell_type": "code",
   "execution_count": 31,
   "id": "93c43fe6",
   "metadata": {},
   "outputs": [
    {
     "name": "stdout",
     "output_type": "stream",
     "text": [
      "[[0 0 1 0 1 1]\n",
      " [1 1 0 0 1 0]\n",
      " [1 1 0 0 1 0]\n",
      " [0 1 1 0 0 1]\n",
      " [0 0 1 1 1 0]]\n"
     ]
    }
   ],
   "source": [
    "vectorizer = CountVectorizer().fit_transform([x] + sentences)\n",
    "vectors = vectorizer.toarray()\n",
    "print(vectors)"
   ]
  },
  {
   "cell_type": "code",
   "execution_count": 32,
   "id": "d17cc266",
   "metadata": {},
   "outputs": [
    {
     "name": "stdout",
     "output_type": "stream",
     "text": [
      "[0.33333333 0.33333333 0.66666667 0.66666667]\n"
     ]
    }
   ],
   "source": [
    "cosine_similarities = cosine_similarity(vectors)[0][1:]\n",
    "print(cosine_similarities)"
   ]
  },
  {
   "cell_type": "code",
   "execution_count": 33,
   "id": "fdf67425",
   "metadata": {},
   "outputs": [
    {
     "name": "stdout",
     "output_type": "stream",
     "text": [
      "SENTENCE MOST SIMILAR TO THE USER QUERY IS:- Dog eats meat.\n"
     ]
    }
   ],
   "source": [
    "similar = np.argmax(cosine_similarities)\n",
    "print(\"SENTENCE MOST SIMILAR TO THE USER QUERY IS:-\",sentences[similar])"
   ]
  }
 ],
 "metadata": {
  "kernelspec": {
   "display_name": "Python 3 (ipykernel)",
   "language": "python",
   "name": "python3"
  },
  "language_info": {
   "codemirror_mode": {
    "name": "ipython",
    "version": 3
   },
   "file_extension": ".py",
   "mimetype": "text/x-python",
   "name": "python",
   "nbconvert_exporter": "python",
   "pygments_lexer": "ipython3",
   "version": "3.10.9"
  }
 },
 "nbformat": 4,
 "nbformat_minor": 5
}
